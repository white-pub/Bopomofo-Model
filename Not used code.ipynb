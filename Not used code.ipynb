{
 "cells": [
  {
   "cell_type": "markdown",
   "id": "6caadc0e-e8bb-494e-bf2a-690993bb75e0",
   "metadata": {},
   "source": [
    "The functions and code that i end up not using."
   ]
  },
  {
   "cell_type": "code",
   "execution_count": null,
   "id": "23860e73-2e8e-47cc-af27-ef6930183760",
   "metadata": {},
   "outputs": [],
   "source": [
    "from PIL import Image, ImageDraw, ImageFont\n",
    "import os\n",
    "\n",
    "# List of fonts installed on your computer\n",
    "fonts = [\n",
    "    \"fonts/BpmfZihiOnly-R.ttf\",\n",
    "    \"fonts/BpmfIansui-Regular.ttf\",\n",
    "    \"fonts/BpmfZihiKaiStd-Regular.ttf\",\n",
    "    \n",
    "    # Add paths to your 13 fonts\n",
    "]\n",
    "\n",
    "# Characters you want to generate images for\n",
    "characters = [\n",
    "    'ㄅ', 'ㄆ', 'ㄇ', 'ㄈ', 'ㄉ' \n",
    "    # Add more characters as needed\n",
    "]\n",
    "\n",
    "\n",
    "# Create output directory if it doesn't exist\n",
    "output_dir = \"output_images\"\n",
    "if not os.path.exists(output_dir):\n",
    "    os.makedirs(output_dir)\n",
    "\n",
    "# Define offsets with adjusted center\n",
    "offsets = [\n",
    "    (0, 0), (-15, 0), (15, 0), (0, -15), (0, 15)\n",
    "]\n",
    "\n",
    "\n",
    "# Loop through each font and generate images\n",
    "for font_path in fonts:\n",
    "    font_name = os.path.basename(font_path).split('.')[0]\n",
    "    font = ImageFont.truetype(font_path, size=50)\n",
    "\n",
    "    for char in characters:\n",
    "        # due to font feature, offset needs to be (11, -4) to make most font center\n",
    "        for offset in offsets:  # Center, and variations\n",
    "            img = Image.new('RGB', (100, 100), color=(255, 255, 255))\n",
    "            draw = ImageDraw.Draw(img)\n",
    "            bbox = draw.textbbox((0, 0), char, font=font)\n",
    "            w = bbox[2] - bbox[0]\n",
    "            h = bbox[3] - bbox[1]\n",
    "\n",
    "            if font_name == 'BpmfZihiOnly-R':\n",
    "                x = (100 - w) / 2 + offset[0]\n",
    "                y = (100 - w) / 2 + offset[1]            \n",
    "            else:\n",
    "                # Adjusting the center point to (12, 12)\n",
    "                x = 12 + (100 - w) / 2 + offset[0]\n",
    "                y = 12 + (100 - w) / 2 + offset[1]\n",
    "\n",
    "            # x = offset[0]\n",
    "            # y = offset[1]   \n",
    "            draw.text((x, y), char, font=font, fill=(0, 0, 0))\n",
    "\n",
    "            # Save the image\n",
    "            img.save(os.path.join(output_dir, f\"{char}_{font_name}_{offset[0]}_{offset[1]}.png\"))\n",
    "\n",
    "print(\"Image generation complete!\")\n",
    "\n"
   ]
  }
 ],
 "metadata": {
  "kernelspec": {
   "display_name": "Python 3 (ipykernel)",
   "language": "python",
   "name": "python3"
  },
  "language_info": {
   "codemirror_mode": {
    "name": "ipython",
    "version": 3
   },
   "file_extension": ".py",
   "mimetype": "text/x-python",
   "name": "python",
   "nbconvert_exporter": "python",
   "pygments_lexer": "ipython3",
   "version": "3.12.5"
  }
 },
 "nbformat": 4,
 "nbformat_minor": 5
}
