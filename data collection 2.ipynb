{
 "cells": [
  {
   "cell_type": "markdown",
   "id": "58bdeb47-b4f5-4fb6-8c88-d53b39a449d0",
   "metadata": {},
   "source": [
    "#### Bopomofo collect data alternate method"
   ]
  },
  {
   "cell_type": "code",
   "execution_count": 3,
   "id": "b3be2a1f-b4b1-497f-821a-67a9d6e243bc",
   "metadata": {
    "execution": {
     "iopub.execute_input": "2024-12-19T12:45:44.969682Z",
     "iopub.status.busy": "2024-12-19T12:45:44.968683Z",
     "iopub.status.idle": "2024-12-19T12:45:45.896759Z",
     "shell.execute_reply": "2024-12-19T12:45:45.895745Z",
     "shell.execute_reply.started": "2024-12-19T12:45:44.969682Z"
    }
   },
   "outputs": [],
   "source": [
    "import numpy as np \n",
    "from PIL import Image, ImageDraw, ImageFont\n",
    "import os\n",
    "import random\n",
    "\n",
    "import os\n",
    "\n",
    "\n",
    "\n",
    "import cv2\n"
   ]
  },
  {
   "cell_type": "code",
   "execution_count": 2,
   "id": "893ce54c-deb5-4a96-9033-54379b9504f7",
   "metadata": {
    "execution": {
     "iopub.execute_input": "2024-12-17T18:16:48.909518Z",
     "iopub.status.busy": "2024-12-17T18:16:48.909518Z",
     "iopub.status.idle": "2024-12-17T18:16:48.920053Z",
     "shell.execute_reply": "2024-12-17T18:16:48.917038Z",
     "shell.execute_reply.started": "2024-12-17T18:16:48.909518Z"
    }
   },
   "outputs": [],
   "source": [
    "def list_files_in_directory(directory_path):\n",
    "    all_items = os.listdir(directory_path) \n",
    "    files = [item for item in all_items if os.path.isfile(os.path.join(directory_path, item))] \n",
    "    return files\n",
    "\n",
    "# create a list of file path from specified folder\n",
    "def create_file_paths(directory_path):\n",
    "    file_names = list_files_in_directory(directory_path)\n",
    "    file_paths = [os.path.join(directory_path, file_name).replace(\"\\\\\", \"/\") for file_name in file_names]\n",
    "    return file_paths\n",
    "\n",
    "# example\n",
    "# directory_path = \"fonts_original files/even stroke fonts\"\n",
    "# file_paths = create_file_paths(directory_path)"
   ]
  },
  {
   "cell_type": "code",
   "execution_count": 3,
   "id": "6e32ab18-e12c-4e01-9fec-137ed3d167f0",
   "metadata": {
    "execution": {
     "iopub.execute_input": "2024-12-17T18:16:48.925057Z",
     "iopub.status.busy": "2024-12-17T18:16:48.923056Z",
     "iopub.status.idle": "2024-12-17T18:16:48.945831Z",
     "shell.execute_reply": "2024-12-17T18:16:48.942811Z",
     "shell.execute_reply.started": "2024-12-17T18:16:48.924055Z"
    }
   },
   "outputs": [],
   "source": [
    "# function to generate centered and off-centered images for each character and font\n",
    "def generate_images(fonts_list, char_pairs, output_dir, num_variations=5, offset_range=(-15, 15)):\n",
    "    for font_path in fonts_list:\n",
    "        font_name = os.path.basename(font_path).split('.')[0]\n",
    "        font = ImageFont.truetype(font_path, size=50)\n",
    "\n",
    "        for char_pair in char_pairs:\n",
    "            char = char_pair[1]\n",
    "            char_num = char_pair[0]\n",
    "            for i in range(num_variations):  # Generate specified number of variations\n",
    "                img = Image.new('RGB', (100, 100), color=(255, 255, 255))\n",
    "                draw = ImageDraw.Draw(img)\n",
    "                bbox = draw.textbbox((0, 0), char, font=font)\n",
    "                w = bbox[2] - bbox[0]\n",
    "                h = bbox[3] - bbox[1]\n",
    "\n",
    "                # Random offset generation\n",
    "                if i == 0:\n",
    "                    offset = (0, 0)  # Centered\n",
    "                else:\n",
    "                    offset = (\n",
    "                        random.randint(offset_range[0], offset_range[1]), \n",
    "                        random.randint(offset_range[0], offset_range[1])\n",
    "                    )\n",
    "\n",
    "                if font_name == '11_BpmfZihiOnly-R':\n",
    "                    x = (100 - w) / 2 + offset[0]\n",
    "                    y = (100 - w) / 2 + offset[1]\n",
    "                    \n",
    "                elif font_name in ('12_elffont-rock', '13_elffont-fern'):\n",
    "                    # special setting to avoid being cropped\n",
    "                    offset = (random.randint(-20, 20), random.randint(-15, 5))\n",
    "                    x = (100 - w) / 2 + offset[0]\n",
    "                    y = (-16) + (100 - w) / 2 + offset[1]\n",
    "                \n",
    "                else:\n",
    "                    x = 12 + (100 - w) / 2 + offset[0]\n",
    "                    y = 12 + (100 - w) / 2 + offset[1]\n",
    "\n",
    "                draw.text((x, y), char, font=font, fill=(0, 0, 0))\n",
    "\n",
    "                # Save the image\n",
    "                img.save(os.path.join(output_dir, f\"{char_num:02}_{font_name}.{offset[0]}.{offset[1]}.png\"))\n",
    "    print(\"All image generated: including centered and off-centered image\")\n",
    "    "
   ]
  },
  {
   "cell_type": "code",
   "execution_count": null,
   "id": "d9427294-0b0f-4de5-8e46-92801cdf06f2",
   "metadata": {},
   "outputs": [],
   "source": []
  },
  {
   "cell_type": "code",
   "execution_count": 7,
   "id": "13182bb9-08a0-4160-a3cb-d6851070f024",
   "metadata": {
    "execution": {
     "iopub.execute_input": "2024-12-17T18:17:49.962773Z",
     "iopub.status.busy": "2024-12-17T18:17:49.960781Z",
     "iopub.status.idle": "2024-12-17T18:18:12.043957Z",
     "shell.execute_reply": "2024-12-17T18:18:12.042950Z",
     "shell.execute_reply.started": "2024-12-17T18:17:49.962773Z"
    }
   },
   "outputs": [
    {
     "name": "stdout",
     "output_type": "stream",
     "text": [
      "['fonts_original files/dynamic stroke fonts/01_BpmfGenRyuMin-B.ttf', 'fonts_original files/dynamic stroke fonts/01_BpmfGenRyuMin-EL.ttf', 'fonts_original files/dynamic stroke fonts/01_BpmfGenRyuMin-H.ttf', 'fonts_original files/dynamic stroke fonts/01_BpmfGenRyuMin-L.ttf', 'fonts_original files/dynamic stroke fonts/01_BpmfGenRyuMin-M.ttf', 'fonts_original files/dynamic stroke fonts/01_BpmfGenRyuMin-R.ttf', 'fonts_original files/dynamic stroke fonts/01_BpmfGenRyuMin-SB.ttf', 'fonts_original files/dynamic stroke fonts/02_BpmfGenWanMin-EL.ttf', 'fonts_original files/dynamic stroke fonts/02_BpmfGenWanMin-L.ttf', 'fonts_original files/dynamic stroke fonts/02_BpmfGenWanMin-M.ttf', 'fonts_original files/dynamic stroke fonts/02_BpmfGenWanMin-R.ttf', 'fonts_original files/dynamic stroke fonts/02_BpmfGenWanMin-SB.ttf', 'fonts_original files/dynamic stroke fonts/03_BpmfGenYoMin-B.ttf', 'fonts_original files/dynamic stroke fonts/03_BpmfGenYoMin-EL.ttf', 'fonts_original files/dynamic stroke fonts/03_BpmfGenYoMin-H.ttf', 'fonts_original files/dynamic stroke fonts/03_BpmfGenYoMin-L.ttf', 'fonts_original files/dynamic stroke fonts/03_BpmfGenYoMin-M.ttf', 'fonts_original files/dynamic stroke fonts/03_BpmfGenYoMin-R.ttf', 'fonts_original files/dynamic stroke fonts/03_BpmfGenYoMin-SB.ttf', 'fonts_original files/dynamic stroke fonts/07_BpmfZihiSerif-Bold.ttf', 'fonts_original files/dynamic stroke fonts/07_BpmfZihiSerif-ExtraLight.ttf', 'fonts_original files/dynamic stroke fonts/07_BpmfZihiSerif-Heavy.ttf', 'fonts_original files/dynamic stroke fonts/07_BpmfZihiSerif-Light.ttf', 'fonts_original files/dynamic stroke fonts/07_BpmfZihiSerif-Medium.ttf', 'fonts_original files/dynamic stroke fonts/07_BpmfZihiSerif-Regular.ttf', 'fonts_original files/dynamic stroke fonts/07_BpmfZihiSerif-SemiBold.ttf', 'fonts_original files/dynamic stroke fonts/09_BpmfZihiKaiStd-Regular.ttf', 'fonts_original files/dynamic stroke fonts/10_BpmfIansui-Regular.ttf', 'fonts_original files/dynamic stroke fonts/11_BpmfZihiOnly-R.ttf', 'fonts_original files/heavily stylized fonts/12_elffont-rock.otf', 'fonts_original files/heavily stylized fonts/13_elffont-fern.otf']\n",
      "31\n",
      "[(1, 'ㄅ'), (2, 'ㄆ'), (3, 'ㄇ'), (4, 'ㄈ'), (5, 'ㄉ'), (6, 'ㄊ'), (7, 'ㄋ'), (8, 'ㄌ'), (9, 'ㄍ'), (10, 'ㄎ'), (11, 'ㄏ'), (12, 'ㄐ'), (13, 'ㄑ'), (14, 'ㄒ'), (15, 'ㄓ'), (16, 'ㄔ'), (17, 'ㄕ'), (18, 'ㄖ'), (19, 'ㄗ'), (20, 'ㄘ'), (21, 'ㄙ'), (22, 'ㄚ'), (23, 'ㄛ'), (24, 'ㄜ'), (25, 'ㄝ'), (26, 'ㄞ'), (27, 'ㄟ'), (28, 'ㄠ'), (29, 'ㄡ'), (30, 'ㄢ'), (31, 'ㄣ'), (32, 'ㄤ'), (33, 'ㄥ'), (34, 'ㄦ'), (35, 'ㄧ'), (36, 'ㄨ'), (37, 'ㄩ')]\n",
      "All image generated: including centered and off-centered image\n"
     ]
    }
   ],
   "source": [
    "# Get all the computer font path\n",
    "computer_fonts_folder = [\n",
    "    'fonts_original files/dynamic stroke fonts',\n",
    "    # 'fonts_original files/even stroke fonts',\n",
    "    'fonts_original files/heavily stylized fonts'\n",
    "]\n",
    "\n",
    "fonts_list = []\n",
    "for folder in computer_fonts_folder:\n",
    "    directory_path = folder\n",
    "    font_list = (create_file_paths(directory_path))\n",
    "    fonts_list += font_list\n",
    "\n",
    "print(fonts_list)\n",
    "print(len(fonts_list))\n",
    "\n",
    "\n",
    "# char_pairs = [\n",
    "#     (1,'ㄅ'), (2,'ㄆ'), (3,'ㄇ') \n",
    "#     # Add more characters as needed\n",
    "# ]\n",
    "\n",
    "\n",
    "# get the list of character tuples (char_num, char)\n",
    "characters = [\n",
    "    'ㄅ', 'ㄆ', 'ㄇ', 'ㄈ', 'ㄉ', 'ㄊ', 'ㄋ', 'ㄌ', \n",
    "    'ㄍ', 'ㄎ', 'ㄏ', 'ㄐ', 'ㄑ', 'ㄒ', 'ㄓ', 'ㄔ', 'ㄕ', 'ㄖ', \n",
    "    'ㄗ', 'ㄘ', 'ㄙ', 'ㄚ', 'ㄛ', 'ㄜ', 'ㄝ', 'ㄞ', 'ㄟ', \n",
    "    'ㄠ', 'ㄡ', 'ㄢ', 'ㄣ', 'ㄤ', 'ㄥ', 'ㄦ', 'ㄧ', 'ㄨ', 'ㄩ'\n",
    "]\n",
    "\n",
    "char_pairs = []\n",
    "char_num = 0\n",
    "for char in characters:\n",
    "    char_num += 1\n",
    "    char_pairs.append((char_num, char))\n",
    "\n",
    "print(char_pairs)\n",
    "\n",
    "\n",
    "\n",
    "output_dir = \"output_images\"\n",
    "generate_images(fonts_list, char_pairs, output_dir, num_variations=5)\n"
   ]
  },
  {
   "cell_type": "code",
   "execution_count": 8,
   "id": "aa3eb155-013a-4058-b85f-8b0408fbf8e9",
   "metadata": {
    "execution": {
     "iopub.execute_input": "2024-12-17T18:18:12.045466Z",
     "iopub.status.busy": "2024-12-17T18:18:12.043957Z",
     "iopub.status.idle": "2024-12-17T18:18:12.059803Z",
     "shell.execute_reply": "2024-12-17T18:18:12.058796Z",
     "shell.execute_reply.started": "2024-12-17T18:18:12.045466Z"
    }
   },
   "outputs": [],
   "source": [
    "# for computer font\n",
    "# functions to randomly alter images to create variety\n",
    "\n",
    "# flip between 1 and -1, determine what alteration will apply\n",
    "only_contrast = 1\n",
    "\n",
    "\n",
    "# Function to apply slanting with random factor\n",
    "def apply_slant(image):\n",
    "    slant_factor = np.random.uniform(-0.2, 0.2)\n",
    "    rows, cols = image.shape\n",
    "    M = np.float32([[1, slant_factor, 0], [0, 1, 0]])\n",
    "    slanted_img = cv2.warpAffine(image, M, (cols, rows), borderMode=cv2.BORDER_CONSTANT, borderValue=255)\n",
    "    return slanted_img\n",
    "\n",
    "# Function to apply rotation with random angle\n",
    "def apply_rotation(image):\n",
    "    angle = np.random.uniform(-5, 5)\n",
    "    rows, cols = image.shape\n",
    "    M = cv2.getRotationMatrix2D((cols / 2, rows / 2), angle, 1)\n",
    "    rotated_img = cv2.warpAffine(image, M, (cols, rows), borderMode=cv2.BORDER_CONSTANT, borderValue=255)\n",
    "    return rotated_img\n",
    "\n",
    "# Function to apply Gaussian blur with a random kernel size\n",
    "def apply_gaussian_blur(image, min_kernel_size=3, max_kernel_size=5):\n",
    "    # Ensure kernel size is odd and within the specified range\n",
    "    kernel_size = np.random.choice(range(min_kernel_size, max_kernel_size + 1, 2))\n",
    "    return cv2.GaussianBlur(image, (kernel_size, kernel_size), 0)\n",
    "\n",
    "# Function to adjust contrast with random alpha and beta\n",
    "def adjust_contrast(image):\n",
    "    alpha = np.random.uniform(0.95, 1.0) # randomly lower contrast\n",
    "    beta = np.random.uniform(0, 10) # randomly adjust brightness\n",
    "\n",
    "    return cv2.convertScaleAbs(image, alpha=alpha, beta=beta)\n",
    "\n",
    "\n",
    "# Function to augment the image\n",
    "def augment_image(img_path, output_dir, only_contrast=only_contrast):\n",
    "    filename = os.path.basename(img_path)\n",
    "    char, font_name, note = filename.split('_')\n",
    "    # note = '_'.join(parts[2:]) # Recombine the rest \n",
    "    note = note.rsplit('.', 1)[0]\n",
    "\n",
    "    img = cv2.imread(img_path, cv2.IMREAD_GRAYSCALE)\n",
    "    \n",
    "    # Check if the image was loaded successfully \n",
    "    if img is None: \n",
    "        print(f\"Error: Unable to load image at path {img_path}\") \n",
    "        return\n",
    "\n",
    "    if only_contrast == 1:\n",
    "        final_img = adjust_contrast(img)\n",
    "        only_contrast = only_contrast * (-1)\n",
    "    else:\n",
    "        only_contrast = only_contrast * (-1)\n",
    "        slanted_img = apply_slant(img)\n",
    "        rotated_img = apply_rotation(slanted_img)\n",
    "        contrasted_img = adjust_contrast(rotated_img)\n",
    "        blurred_img = apply_gaussian_blur(contrasted_img)\n",
    "        final_img = blurred_img\n",
    "    \n",
    "    output_path = os.path.join(output_dir, f\"{char}_{font_name}_{note}.png\")\n",
    "    cv2.imwrite(output_path, final_img)\n",
    "\n",
    "    return only_contrast\n",
    "\n",
    "def process_images_in_folder(input_dir, output_dir):\n",
    "    global only_contrast # change the global variable inside a function to ensure consistancy\n",
    "    if not os.path.exists(output_dir):\n",
    "        os.makedirs(output_dir)\n",
    "    for filename in os.listdir(input_dir):\n",
    "        if filename.endswith(\".png\"):\n",
    "            img_path = os.path.join(input_dir, filename)\n",
    "            only_contrast = augment_image(img_path, output_dir, only_contrast)\n",
    "    print(\"All image generated\")\n"
   ]
  },
  {
   "cell_type": "code",
   "execution_count": 9,
   "id": "711cabbe-c1c5-4af3-a434-1095cea7246c",
   "metadata": {
    "execution": {
     "iopub.execute_input": "2024-12-17T18:18:12.060803Z",
     "iopub.status.busy": "2024-12-17T18:18:12.060803Z",
     "iopub.status.idle": "2024-12-17T18:19:25.165265Z",
     "shell.execute_reply": "2024-12-17T18:19:25.164196Z",
     "shell.execute_reply.started": "2024-12-17T18:18:12.060803Z"
    }
   },
   "outputs": [
    {
     "name": "stdout",
     "output_type": "stream",
     "text": [
      "All image generated\n"
     ]
    }
   ],
   "source": [
    "# create augmented images from original image\n",
    "input_dir = 'output_images'\n",
    "output_dir = 'augmented'\n",
    "process_images_in_folder(input_dir, output_dir)"
   ]
  },
  {
   "cell_type": "code",
   "execution_count": 1,
   "id": "e65264b4-6812-45e0-8eff-706a002313d7",
   "metadata": {
    "execution": {
     "iopub.execute_input": "2024-12-19T12:44:43.407125Z",
     "iopub.status.busy": "2024-12-19T12:44:43.406075Z",
     "iopub.status.idle": "2024-12-19T12:44:43.430551Z",
     "shell.execute_reply": "2024-12-19T12:44:43.428529Z",
     "shell.execute_reply.started": "2024-12-19T12:44:43.407125Z"
    }
   },
   "outputs": [],
   "source": [
    "def scale_and_pad_image(input_dir, output_dir, target_size=(28, 28)):\n",
    "    \"\"\"\n",
    "    Scale and pad images to the target size while maintaining proportions.\n",
    "\n",
    "    Assume each \n",
    "    \"\"\"\n",
    "    if not os.path.exists(output_dir):\n",
    "        os.makedirs(output_dir)\n",
    "\n",
    "    for filename in os.listdir(input_dir):\n",
    "        if filename.endswith('.png'):\n",
    "            img = Image.open(os.path.join(input_dir, filename))\n",
    "            img.thumbnail(target_size, Image.LANCZOS)  # Maintain aspect ratio\n",
    "            width, height = img.size\n",
    "\n",
    "            # Create a new image with white background\n",
    "            new_img = Image.new('RGB', target_size, (255, 255, 255))\n",
    "            paste_position = ((target_size[0] - width) // 2, (target_size[1] - height) // 2)\n",
    "            new_img.paste(img, paste_position)\n",
    "            new_img.save(os.path.join(output_dir, filename))\n"
   ]
  },
  {
   "cell_type": "code",
   "execution_count": 4,
   "id": "4e1ca66d-6368-4cb3-a931-380a88fc8be3",
   "metadata": {
    "execution": {
     "iopub.execute_input": "2024-12-19T12:45:53.195664Z",
     "iopub.status.busy": "2024-12-19T12:45:53.194641Z",
     "iopub.status.idle": "2024-12-19T12:47:28.850091Z",
     "shell.execute_reply": "2024-12-19T12:47:28.848070Z",
     "shell.execute_reply.started": "2024-12-19T12:45:53.195664Z"
    }
   },
   "outputs": [],
   "source": [
    "# Parameters for scaling and padding\n",
    "input_dir = 'augmented'\n",
    "scaled_output_dir = 'augmented2'\n",
    "target_size = (28, 28)  # Desired size for training\n",
    "\n",
    "# Scale and pad images\n",
    "scale_and_pad_image(input_dir, scaled_output_dir, target_size)"
   ]
  },
  {
   "cell_type": "code",
   "execution_count": null,
   "id": "f62061d0-1ea0-4a12-895a-bd14ee0f266b",
   "metadata": {},
   "outputs": [],
   "source": []
  }
 ],
 "metadata": {
  "kernelspec": {
   "display_name": "Python 3 (ipykernel)",
   "language": "python",
   "name": "python3"
  },
  "language_info": {
   "codemirror_mode": {
    "name": "ipython",
    "version": 3
   },
   "file_extension": ".py",
   "mimetype": "text/x-python",
   "name": "python",
   "nbconvert_exporter": "python",
   "pygments_lexer": "ipython3",
   "version": "3.12.5"
  }
 },
 "nbformat": 4,
 "nbformat_minor": 5
}
